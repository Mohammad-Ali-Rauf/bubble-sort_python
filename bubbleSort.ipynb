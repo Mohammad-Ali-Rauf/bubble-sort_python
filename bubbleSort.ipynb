{
 "cells": [
  {
   "cell_type": "code",
   "execution_count": 41,
   "metadata": {
    "vscode": {
     "languageId": "python"
    }
   },
   "outputs": [
    {
     "name": "stdout",
     "output_type": "stream",
     "text": [
      "[1, 12, 15, 18, 32, 45, 55, 75, 78, 98]\n"
     ]
    }
   ],
   "source": [
    "data = [32, 15, 45, 78, 1, 12, 18, 98, 75, 55]\n",
    "swap = False\n",
    "\n",
    "def bubbleSort(array, swap):\n",
    "    for index in range(len(array)):\n",
    "        for j in range(0, len(array) - index - 1):\n",
    "            if array[j] > array[j+1]:\n",
    "                num = array[j]\n",
    "                array[j] = array[j+1]\n",
    "                array[j+1] = num\n",
    "        swap = True\n",
    "    return array\n",
    "\n",
    "bubbleSort(data, swap)\n",
    "\n",
    "print(data)"
   ]
  }
 ],
 "metadata": {
  "kernelspec": {
   "display_name": "SageMath 9.5",
   "language": "sage",
   "name": "sagemath"
  },
  "language_info": {
   "codemirror_mode": {
    "name": "ipython",
    "version": 3
   },
   "file_extension": ".py",
   "mimetype": "text/x-python",
   "name": "sage",
   "nbconvert_exporter": "python",
   "pygments_lexer": "ipython3",
   "version": "3.10.7"
  },
  "orig_nbformat": 4
 },
 "nbformat": 4,
 "nbformat_minor": 2
}
